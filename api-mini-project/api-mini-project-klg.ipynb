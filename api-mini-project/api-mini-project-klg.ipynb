{
 "cells": [
  {
   "cell_type": "code",
   "execution_count": 1,
   "id": "00cdead8-452a-4569-b7d8-14b0b3e483db",
   "metadata": {},
   "outputs": [],
   "source": [
    "# get api key from .env file\n",
    "import os\n",
    "from dotenv import load_dotenv\n",
    "\n",
    "load_dotenv()\n",
    "API_KEY = os.getenv('NASDAQ_API_KEY')"
   ]
  },
  {
   "cell_type": "code",
   "execution_count": 2,
   "id": "63439c18",
   "metadata": {},
   "outputs": [],
   "source": [
    "# import packages\n",
    "import requests, json, pandas as pd"
   ]
  },
  {
   "cell_type": "code",
   "execution_count": 3,
   "id": "85309434-5f9d-4c69-9e6a-8bc7c760a49d",
   "metadata": {},
   "outputs": [],
   "source": [
    "# define api url\n",
    "url_sample = 'https://data.nasdaq.com/api/v3/datasets/FSE/AFX_X.json?start_date=2017-01-01&end_date=2017-01-02&api_key=' + API_KEY\n",
    "\n",
    "# make a request call\n",
    "r = requests.get(url_sample)\n",
    "\n",
    "# convert json file to dict\n",
    "json_sample = r.json()"
   ]
  },
  {
   "cell_type": "code",
   "execution_count": 4,
   "id": "20e5b1ae-cf58-4822-8e0b-b206018a44c2",
   "metadata": {},
   "outputs": [
    {
     "data": {
      "text/plain": [
       "{'dataset': {'id': 10095370,\n",
       "  'dataset_code': 'AFX_X',\n",
       "  'database_code': 'FSE',\n",
       "  'name': 'Carl Zeiss Meditec (AFX_X)',\n",
       "  'description': 'Stock Prices for Carl Zeiss Meditec (2020-11-02) from the Frankfurt Stock Exchange.<br><br>Trading System: Xetra<br><br>ISIN: DE0005313704',\n",
       "  'refreshed_at': '2020-12-01T14:48:09.907Z',\n",
       "  'newest_available_date': '2020-12-01',\n",
       "  'oldest_available_date': '2000-06-07',\n",
       "  'column_names': ['Date',\n",
       "   'Open',\n",
       "   'High',\n",
       "   'Low',\n",
       "   'Close',\n",
       "   'Change',\n",
       "   'Traded Volume',\n",
       "   'Turnover',\n",
       "   'Last Price of the Day',\n",
       "   'Daily Traded Units',\n",
       "   'Daily Turnover'],\n",
       "  'frequency': 'daily',\n",
       "  'type': 'Time Series',\n",
       "  'premium': False,\n",
       "  'limit': None,\n",
       "  'transform': None,\n",
       "  'column_index': None,\n",
       "  'start_date': '2017-01-01',\n",
       "  'end_date': '2017-01-02',\n",
       "  'data': [['2017-01-02',\n",
       "    34.99,\n",
       "    35.94,\n",
       "    34.99,\n",
       "    35.8,\n",
       "    None,\n",
       "    44700.0,\n",
       "    1590561.0,\n",
       "    None,\n",
       "    None,\n",
       "    None]],\n",
       "  'collapse': None,\n",
       "  'order': None,\n",
       "  'database_id': 6129}}"
      ]
     },
     "execution_count": 4,
     "metadata": {},
     "output_type": "execute_result"
    }
   ],
   "source": [
    "# checkout what the data will look like\n",
    "json_sample"
   ]
  },
  {
   "cell_type": "code",
   "execution_count": 5,
   "id": "c7dbed89-21ae-486e-9642-e4e25b7d5bed",
   "metadata": {},
   "outputs": [],
   "source": [
    "# define api url\n",
    "url = 'https://data.nasdaq.com/api/v3/datasets/FSE/AFX_X.json?start_date=02017-01-01&end_date=2017-12-31&api_key=' + API_KEY\n",
    "\n",
    "# make a request call\n",
    "r = requests.get(url)\n",
    "\n",
    "# convert json file to dict\n",
    "json_data = r.json()"
   ]
  },
  {
   "cell_type": "code",
   "execution_count": 6,
   "id": "68ca1b59-625d-4904-b199-a4adfdbf4871",
   "metadata": {},
   "outputs": [
    {
     "name": "stdout",
     "output_type": "stream",
     "text": [
      "<class 'dict'>\n"
     ]
    }
   ],
   "source": [
    "print(type(json_data))"
   ]
  },
  {
   "cell_type": "code",
   "execution_count": 7,
   "id": "3ff72869-2f7f-4ca8-8bc3-e38c1bb5bf6c",
   "metadata": {},
   "outputs": [
    {
     "data": {
      "text/plain": [
       "dict_keys(['dataset'])"
      ]
     },
     "execution_count": 7,
     "metadata": {},
     "output_type": "execute_result"
    }
   ],
   "source": [
    "json_data.keys()"
   ]
  },
  {
   "cell_type": "markdown",
   "id": "0d176131-61df-4c52-8f18-59f4951f64b3",
   "metadata": {},
   "source": [
    "I see that we have several nested data in our current dictionary, so we can't convert it to a dataframe yet."
   ]
  },
  {
   "cell_type": "code",
   "execution_count": 8,
   "id": "e8721aa5-4533-45c9-8c65-432cb4d9eb0b",
   "metadata": {},
   "outputs": [
    {
     "data": {
      "text/html": [
       "<div>\n",
       "<style scoped>\n",
       "    .dataframe tbody tr th:only-of-type {\n",
       "        vertical-align: middle;\n",
       "    }\n",
       "\n",
       "    .dataframe tbody tr th {\n",
       "        vertical-align: top;\n",
       "    }\n",
       "\n",
       "    .dataframe thead th {\n",
       "        text-align: right;\n",
       "    }\n",
       "</style>\n",
       "<table border=\"1\" class=\"dataframe\">\n",
       "  <thead>\n",
       "    <tr style=\"text-align: right;\">\n",
       "      <th></th>\n",
       "      <th>dataset.id</th>\n",
       "      <th>dataset.dataset_code</th>\n",
       "      <th>dataset.database_code</th>\n",
       "      <th>dataset.name</th>\n",
       "      <th>dataset.description</th>\n",
       "      <th>dataset.refreshed_at</th>\n",
       "      <th>dataset.newest_available_date</th>\n",
       "      <th>dataset.oldest_available_date</th>\n",
       "      <th>dataset.column_names</th>\n",
       "      <th>dataset.frequency</th>\n",
       "      <th>...</th>\n",
       "      <th>dataset.premium</th>\n",
       "      <th>dataset.limit</th>\n",
       "      <th>dataset.transform</th>\n",
       "      <th>dataset.column_index</th>\n",
       "      <th>dataset.start_date</th>\n",
       "      <th>dataset.end_date</th>\n",
       "      <th>dataset.data</th>\n",
       "      <th>dataset.collapse</th>\n",
       "      <th>dataset.order</th>\n",
       "      <th>dataset.database_id</th>\n",
       "    </tr>\n",
       "  </thead>\n",
       "  <tbody>\n",
       "    <tr>\n",
       "      <th>0</th>\n",
       "      <td>10095370</td>\n",
       "      <td>AFX_X</td>\n",
       "      <td>FSE</td>\n",
       "      <td>Carl Zeiss Meditec (AFX_X)</td>\n",
       "      <td>Stock Prices for Carl Zeiss Meditec (2020-11-0...</td>\n",
       "      <td>2020-12-01T14:48:09.907Z</td>\n",
       "      <td>2020-12-01</td>\n",
       "      <td>2000-06-07</td>\n",
       "      <td>[Date, Open, High, Low, Close, Change, Traded ...</td>\n",
       "      <td>daily</td>\n",
       "      <td>...</td>\n",
       "      <td>False</td>\n",
       "      <td>None</td>\n",
       "      <td>None</td>\n",
       "      <td>None</td>\n",
       "      <td>2017-01-01</td>\n",
       "      <td>2017-12-31</td>\n",
       "      <td>[[2017-12-29, 51.76, 51.94, 51.45, 51.76, None...</td>\n",
       "      <td>None</td>\n",
       "      <td>None</td>\n",
       "      <td>6129</td>\n",
       "    </tr>\n",
       "  </tbody>\n",
       "</table>\n",
       "<p>1 rows × 21 columns</p>\n",
       "</div>"
      ],
      "text/plain": [
       "   dataset.id dataset.dataset_code dataset.database_code  \\\n",
       "0    10095370                AFX_X                   FSE   \n",
       "\n",
       "                 dataset.name  \\\n",
       "0  Carl Zeiss Meditec (AFX_X)   \n",
       "\n",
       "                                 dataset.description  \\\n",
       "0  Stock Prices for Carl Zeiss Meditec (2020-11-0...   \n",
       "\n",
       "       dataset.refreshed_at dataset.newest_available_date  \\\n",
       "0  2020-12-01T14:48:09.907Z                    2020-12-01   \n",
       "\n",
       "  dataset.oldest_available_date  \\\n",
       "0                    2000-06-07   \n",
       "\n",
       "                                dataset.column_names dataset.frequency  ...  \\\n",
       "0  [Date, Open, High, Low, Close, Change, Traded ...             daily  ...   \n",
       "\n",
       "  dataset.premium  dataset.limit dataset.transform dataset.column_index  \\\n",
       "0           False           None              None                 None   \n",
       "\n",
       "  dataset.start_date dataset.end_date  \\\n",
       "0         2017-01-01       2017-12-31   \n",
       "\n",
       "                                        dataset.data dataset.collapse  \\\n",
       "0  [[2017-12-29, 51.76, 51.94, 51.45, 51.76, None...             None   \n",
       "\n",
       "  dataset.order dataset.database_id  \n",
       "0          None                6129  \n",
       "\n",
       "[1 rows x 21 columns]"
      ]
     },
     "execution_count": 8,
     "metadata": {},
     "output_type": "execute_result"
    }
   ],
   "source": [
    "# use json_normalize() to deal with nested data\n",
    "df = pd.json_normalize(json_data)\n",
    "df.head()"
   ]
  },
  {
   "cell_type": "markdown",
   "id": "a70417ca-ba6d-49ce-856f-ee93a49fa9d0",
   "metadata": {},
   "source": [
    "Okay `.json_normalize()` didn't work because of the structure with the nested values. However, to perfrom the analysis I want, I see that I really only need the dataset's column names and the data values. I am going to extract these lists from the dataset and create a new dataframe with them."
   ]
  },
  {
   "cell_type": "code",
   "execution_count": 9,
   "id": "5ae652d9-c373-4ec5-99f2-291f30f0b5c3",
   "metadata": {},
   "outputs": [],
   "source": [
    "# extrace data list as a variable called data\n",
    "data = json_data['dataset']['data']"
   ]
  },
  {
   "cell_type": "code",
   "execution_count": 10,
   "id": "b47249be-fdec-4724-bcf7-d033a1411ef8",
   "metadata": {},
   "outputs": [],
   "source": [
    "# extract column names\n",
    "column_names = json_data['dataset']['column_names']"
   ]
  },
  {
   "cell_type": "code",
   "execution_count": 11,
   "id": "38a996ba-a14d-43f1-8409-ec192cd4b3b6",
   "metadata": {},
   "outputs": [
    {
     "data": {
      "text/html": [
       "<div>\n",
       "<style scoped>\n",
       "    .dataframe tbody tr th:only-of-type {\n",
       "        vertical-align: middle;\n",
       "    }\n",
       "\n",
       "    .dataframe tbody tr th {\n",
       "        vertical-align: top;\n",
       "    }\n",
       "\n",
       "    .dataframe thead th {\n",
       "        text-align: right;\n",
       "    }\n",
       "</style>\n",
       "<table border=\"1\" class=\"dataframe\">\n",
       "  <thead>\n",
       "    <tr style=\"text-align: right;\">\n",
       "      <th></th>\n",
       "      <th>Date</th>\n",
       "      <th>Open</th>\n",
       "      <th>High</th>\n",
       "      <th>Low</th>\n",
       "      <th>Close</th>\n",
       "      <th>Change</th>\n",
       "      <th>Traded Volume</th>\n",
       "      <th>Turnover</th>\n",
       "      <th>Last Price of the Day</th>\n",
       "      <th>Daily Traded Units</th>\n",
       "      <th>Daily Turnover</th>\n",
       "    </tr>\n",
       "  </thead>\n",
       "  <tbody>\n",
       "    <tr>\n",
       "      <th>0</th>\n",
       "      <td>2017-12-29</td>\n",
       "      <td>51.76</td>\n",
       "      <td>51.94</td>\n",
       "      <td>51.45</td>\n",
       "      <td>51.76</td>\n",
       "      <td>NaN</td>\n",
       "      <td>34640.0</td>\n",
       "      <td>1792304.0</td>\n",
       "      <td>None</td>\n",
       "      <td>None</td>\n",
       "      <td>None</td>\n",
       "    </tr>\n",
       "    <tr>\n",
       "      <th>1</th>\n",
       "      <td>2017-12-28</td>\n",
       "      <td>51.65</td>\n",
       "      <td>51.82</td>\n",
       "      <td>51.43</td>\n",
       "      <td>51.60</td>\n",
       "      <td>NaN</td>\n",
       "      <td>40660.0</td>\n",
       "      <td>2099024.0</td>\n",
       "      <td>None</td>\n",
       "      <td>None</td>\n",
       "      <td>None</td>\n",
       "    </tr>\n",
       "    <tr>\n",
       "      <th>2</th>\n",
       "      <td>2017-12-27</td>\n",
       "      <td>51.45</td>\n",
       "      <td>51.89</td>\n",
       "      <td>50.76</td>\n",
       "      <td>51.82</td>\n",
       "      <td>NaN</td>\n",
       "      <td>57452.0</td>\n",
       "      <td>2957018.0</td>\n",
       "      <td>None</td>\n",
       "      <td>None</td>\n",
       "      <td>None</td>\n",
       "    </tr>\n",
       "    <tr>\n",
       "      <th>3</th>\n",
       "      <td>2017-12-22</td>\n",
       "      <td>51.05</td>\n",
       "      <td>51.50</td>\n",
       "      <td>50.92</td>\n",
       "      <td>51.32</td>\n",
       "      <td>NaN</td>\n",
       "      <td>71165.0</td>\n",
       "      <td>3641949.0</td>\n",
       "      <td>None</td>\n",
       "      <td>None</td>\n",
       "      <td>None</td>\n",
       "    </tr>\n",
       "    <tr>\n",
       "      <th>4</th>\n",
       "      <td>2017-12-21</td>\n",
       "      <td>51.16</td>\n",
       "      <td>51.52</td>\n",
       "      <td>50.90</td>\n",
       "      <td>51.40</td>\n",
       "      <td>NaN</td>\n",
       "      <td>120649.0</td>\n",
       "      <td>6179433.0</td>\n",
       "      <td>None</td>\n",
       "      <td>None</td>\n",
       "      <td>None</td>\n",
       "    </tr>\n",
       "  </tbody>\n",
       "</table>\n",
       "</div>"
      ],
      "text/plain": [
       "         Date   Open   High    Low  Close  Change  Traded Volume   Turnover  \\\n",
       "0  2017-12-29  51.76  51.94  51.45  51.76     NaN        34640.0  1792304.0   \n",
       "1  2017-12-28  51.65  51.82  51.43  51.60     NaN        40660.0  2099024.0   \n",
       "2  2017-12-27  51.45  51.89  50.76  51.82     NaN        57452.0  2957018.0   \n",
       "3  2017-12-22  51.05  51.50  50.92  51.32     NaN        71165.0  3641949.0   \n",
       "4  2017-12-21  51.16  51.52  50.90  51.40     NaN       120649.0  6179433.0   \n",
       "\n",
       "  Last Price of the Day Daily Traded Units Daily Turnover  \n",
       "0                  None               None           None  \n",
       "1                  None               None           None  \n",
       "2                  None               None           None  \n",
       "3                  None               None           None  \n",
       "4                  None               None           None  "
      ]
     },
     "execution_count": 11,
     "metadata": {},
     "output_type": "execute_result"
    }
   ],
   "source": [
    "# convert data and column names to a dataframe\n",
    "df = pd.DataFrame(data=data, columns=column_names)\n",
    "df.head()"
   ]
  },
  {
   "cell_type": "code",
   "execution_count": 12,
   "id": "64e262a8-8c4c-49ae-a6a4-972d80f817b2",
   "metadata": {},
   "outputs": [
    {
     "data": {
      "text/plain": [
       "Date                       0\n",
       "Open                       3\n",
       "High                       0\n",
       "Low                        0\n",
       "Close                      0\n",
       "Change                   254\n",
       "Traded Volume              0\n",
       "Turnover                   0\n",
       "Last Price of the Day    255\n",
       "Daily Traded Units       255\n",
       "Daily Turnover           255\n",
       "dtype: int64"
      ]
     },
     "execution_count": 12,
     "metadata": {},
     "output_type": "execute_result"
    }
   ],
   "source": [
    "df.isnull().sum()"
   ]
  },
  {
   "cell_type": "markdown",
   "id": "91654964-b658-4436-9977-1b2c6dd6b695",
   "metadata": {},
   "source": [
    "We have several null values we will want to address. Also, given that Last Price of the Day, Daily Traded Units, and Daily Turnover are all null, I will remove these columns. \n",
    "\n",
    "I will fill the Open null values using interpolate because it can estimate values based on linear relationships between points. This seems more appropriate than just filling forward or backwards. "
   ]
  },
  {
   "cell_type": "code",
   "execution_count": 13,
   "id": "41805c89-af05-4f74-9d91-4c73d2e81636",
   "metadata": {},
   "outputs": [
    {
     "data": {
      "text/plain": [
       "(255, 11)"
      ]
     },
     "execution_count": 13,
     "metadata": {},
     "output_type": "execute_result"
    }
   ],
   "source": [
    "df.shape"
   ]
  },
  {
   "cell_type": "code",
   "execution_count": 14,
   "id": "3ddec96b-6563-48dc-92f1-75f2920367ae",
   "metadata": {},
   "outputs": [
    {
     "data": {
      "text/html": [
       "<div>\n",
       "<style scoped>\n",
       "    .dataframe tbody tr th:only-of-type {\n",
       "        vertical-align: middle;\n",
       "    }\n",
       "\n",
       "    .dataframe tbody tr th {\n",
       "        vertical-align: top;\n",
       "    }\n",
       "\n",
       "    .dataframe thead th {\n",
       "        text-align: right;\n",
       "    }\n",
       "</style>\n",
       "<table border=\"1\" class=\"dataframe\">\n",
       "  <thead>\n",
       "    <tr style=\"text-align: right;\">\n",
       "      <th></th>\n",
       "      <th>Open</th>\n",
       "      <th>High</th>\n",
       "      <th>Low</th>\n",
       "      <th>Close</th>\n",
       "      <th>Change</th>\n",
       "      <th>Traded Volume</th>\n",
       "      <th>Turnover</th>\n",
       "    </tr>\n",
       "  </thead>\n",
       "  <tbody>\n",
       "    <tr>\n",
       "      <th>count</th>\n",
       "      <td>252.000000</td>\n",
       "      <td>255.000000</td>\n",
       "      <td>255.000000</td>\n",
       "      <td>255.000000</td>\n",
       "      <td>1.00</td>\n",
       "      <td>255.000000</td>\n",
       "      <td>2.550000e+02</td>\n",
       "    </tr>\n",
       "    <tr>\n",
       "      <th>mean</th>\n",
       "      <td>43.344206</td>\n",
       "      <td>43.702804</td>\n",
       "      <td>42.924373</td>\n",
       "      <td>43.364157</td>\n",
       "      <td>-0.44</td>\n",
       "      <td>89124.337255</td>\n",
       "      <td>3.853589e+06</td>\n",
       "    </tr>\n",
       "    <tr>\n",
       "      <th>std</th>\n",
       "      <td>4.348585</td>\n",
       "      <td>4.365667</td>\n",
       "      <td>4.267225</td>\n",
       "      <td>4.321755</td>\n",
       "      <td>NaN</td>\n",
       "      <td>60441.130541</td>\n",
       "      <td>2.517807e+06</td>\n",
       "    </tr>\n",
       "    <tr>\n",
       "      <th>min</th>\n",
       "      <td>34.000000</td>\n",
       "      <td>34.120000</td>\n",
       "      <td>33.620000</td>\n",
       "      <td>34.060000</td>\n",
       "      <td>-0.44</td>\n",
       "      <td>45.000000</td>\n",
       "      <td>1.980000e+03</td>\n",
       "    </tr>\n",
       "    <tr>\n",
       "      <th>25%</th>\n",
       "      <td>41.395000</td>\n",
       "      <td>41.580000</td>\n",
       "      <td>41.045000</td>\n",
       "      <td>41.400000</td>\n",
       "      <td>-0.44</td>\n",
       "      <td>56282.000000</td>\n",
       "      <td>2.388636e+06</td>\n",
       "    </tr>\n",
       "    <tr>\n",
       "      <th>50%</th>\n",
       "      <td>43.450000</td>\n",
       "      <td>43.550000</td>\n",
       "      <td>42.620000</td>\n",
       "      <td>43.280000</td>\n",
       "      <td>-0.44</td>\n",
       "      <td>76286.000000</td>\n",
       "      <td>3.292223e+06</td>\n",
       "    </tr>\n",
       "    <tr>\n",
       "      <th>75%</th>\n",
       "      <td>45.857500</td>\n",
       "      <td>46.195000</td>\n",
       "      <td>45.390000</td>\n",
       "      <td>45.850000</td>\n",
       "      <td>-0.44</td>\n",
       "      <td>104479.000000</td>\n",
       "      <td>4.591904e+06</td>\n",
       "    </tr>\n",
       "    <tr>\n",
       "      <th>max</th>\n",
       "      <td>53.110000</td>\n",
       "      <td>53.540000</td>\n",
       "      <td>52.480000</td>\n",
       "      <td>53.090000</td>\n",
       "      <td>-0.44</td>\n",
       "      <td>670349.000000</td>\n",
       "      <td>2.591054e+07</td>\n",
       "    </tr>\n",
       "  </tbody>\n",
       "</table>\n",
       "</div>"
      ],
      "text/plain": [
       "             Open        High         Low       Close  Change  Traded Volume  \\\n",
       "count  252.000000  255.000000  255.000000  255.000000    1.00     255.000000   \n",
       "mean    43.344206   43.702804   42.924373   43.364157   -0.44   89124.337255   \n",
       "std      4.348585    4.365667    4.267225    4.321755     NaN   60441.130541   \n",
       "min     34.000000   34.120000   33.620000   34.060000   -0.44      45.000000   \n",
       "25%     41.395000   41.580000   41.045000   41.400000   -0.44   56282.000000   \n",
       "50%     43.450000   43.550000   42.620000   43.280000   -0.44   76286.000000   \n",
       "75%     45.857500   46.195000   45.390000   45.850000   -0.44  104479.000000   \n",
       "max     53.110000   53.540000   52.480000   53.090000   -0.44  670349.000000   \n",
       "\n",
       "           Turnover  \n",
       "count  2.550000e+02  \n",
       "mean   3.853589e+06  \n",
       "std    2.517807e+06  \n",
       "min    1.980000e+03  \n",
       "25%    2.388636e+06  \n",
       "50%    3.292223e+06  \n",
       "75%    4.591904e+06  \n",
       "max    2.591054e+07  "
      ]
     },
     "execution_count": 14,
     "metadata": {},
     "output_type": "execute_result"
    }
   ],
   "source": [
    "df.describe()"
   ]
  },
  {
   "cell_type": "code",
   "execution_count": 15,
   "id": "18ed457f-a8d0-454a-a6b9-3edf12203221",
   "metadata": {},
   "outputs": [
    {
     "data": {
      "text/html": [
       "<div>\n",
       "<style scoped>\n",
       "    .dataframe tbody tr th:only-of-type {\n",
       "        vertical-align: middle;\n",
       "    }\n",
       "\n",
       "    .dataframe tbody tr th {\n",
       "        vertical-align: top;\n",
       "    }\n",
       "\n",
       "    .dataframe thead th {\n",
       "        text-align: right;\n",
       "    }\n",
       "</style>\n",
       "<table border=\"1\" class=\"dataframe\">\n",
       "  <thead>\n",
       "    <tr style=\"text-align: right;\">\n",
       "      <th></th>\n",
       "      <th>Date</th>\n",
       "      <th>Open</th>\n",
       "      <th>High</th>\n",
       "      <th>Low</th>\n",
       "      <th>Close</th>\n",
       "      <th>Change</th>\n",
       "      <th>Traded Volume</th>\n",
       "      <th>Turnover</th>\n",
       "      <th>Last Price of the Day</th>\n",
       "      <th>Daily Traded Units</th>\n",
       "      <th>Daily Turnover</th>\n",
       "    </tr>\n",
       "  </thead>\n",
       "  <tbody>\n",
       "    <tr>\n",
       "      <th>169</th>\n",
       "      <td>2017-05-01</td>\n",
       "      <td>NaN</td>\n",
       "      <td>42.245</td>\n",
       "      <td>41.655</td>\n",
       "      <td>41.72</td>\n",
       "      <td>-0.44</td>\n",
       "      <td>86348.0</td>\n",
       "      <td>3606589.0</td>\n",
       "      <td>None</td>\n",
       "      <td>None</td>\n",
       "      <td>None</td>\n",
       "    </tr>\n",
       "    <tr>\n",
       "      <th>179</th>\n",
       "      <td>2017-04-17</td>\n",
       "      <td>NaN</td>\n",
       "      <td>42.480</td>\n",
       "      <td>41.985</td>\n",
       "      <td>42.20</td>\n",
       "      <td>NaN</td>\n",
       "      <td>88416.0</td>\n",
       "      <td>3734717.0</td>\n",
       "      <td>None</td>\n",
       "      <td>None</td>\n",
       "      <td>None</td>\n",
       "    </tr>\n",
       "    <tr>\n",
       "      <th>180</th>\n",
       "      <td>2017-04-14</td>\n",
       "      <td>NaN</td>\n",
       "      <td>42.480</td>\n",
       "      <td>41.985</td>\n",
       "      <td>42.20</td>\n",
       "      <td>NaN</td>\n",
       "      <td>88416.0</td>\n",
       "      <td>3734717.0</td>\n",
       "      <td>None</td>\n",
       "      <td>None</td>\n",
       "      <td>None</td>\n",
       "    </tr>\n",
       "  </tbody>\n",
       "</table>\n",
       "</div>"
      ],
      "text/plain": [
       "           Date  Open    High     Low  Close  Change  Traded Volume  \\\n",
       "169  2017-05-01   NaN  42.245  41.655  41.72   -0.44        86348.0   \n",
       "179  2017-04-17   NaN  42.480  41.985  42.20     NaN        88416.0   \n",
       "180  2017-04-14   NaN  42.480  41.985  42.20     NaN        88416.0   \n",
       "\n",
       "      Turnover Last Price of the Day Daily Traded Units Daily Turnover  \n",
       "169  3606589.0                  None               None           None  \n",
       "179  3734717.0                  None               None           None  \n",
       "180  3734717.0                  None               None           None  "
      ]
     },
     "execution_count": 15,
     "metadata": {},
     "output_type": "execute_result"
    }
   ],
   "source": [
    "# identify missing values in 'Open' and the one value that is not mising in 'Change'\n",
    "df_missing = df[df['Open'].isnull() | df['Change'].notnull()]\n",
    "df_missing"
   ]
  },
  {
   "cell_type": "code",
   "execution_count": 16,
   "id": "e5a11736-55bd-439a-ad7d-b49b73413f2e",
   "metadata": {},
   "outputs": [],
   "source": [
    "# fill missing Open data Linear Interpolation\n",
    "df['Open'] = df['Open'].interpolate(method='linear')"
   ]
  },
  {
   "cell_type": "code",
   "execution_count": 17,
   "id": "8df85a13-bdad-4213-866b-5a6b0d4b92b8",
   "metadata": {},
   "outputs": [
    {
     "data": {
      "text/html": [
       "<div>\n",
       "<style scoped>\n",
       "    .dataframe tbody tr th:only-of-type {\n",
       "        vertical-align: middle;\n",
       "    }\n",
       "\n",
       "    .dataframe tbody tr th {\n",
       "        vertical-align: top;\n",
       "    }\n",
       "\n",
       "    .dataframe thead th {\n",
       "        text-align: right;\n",
       "    }\n",
       "</style>\n",
       "<table border=\"1\" class=\"dataframe\">\n",
       "  <thead>\n",
       "    <tr style=\"text-align: right;\">\n",
       "      <th></th>\n",
       "      <th>Date</th>\n",
       "      <th>Open</th>\n",
       "      <th>High</th>\n",
       "      <th>Low</th>\n",
       "      <th>Close</th>\n",
       "      <th>Change</th>\n",
       "      <th>Traded Volume</th>\n",
       "      <th>Turnover</th>\n",
       "      <th>Last Price of the Day</th>\n",
       "      <th>Daily Traded Units</th>\n",
       "      <th>Daily Turnover</th>\n",
       "    </tr>\n",
       "  </thead>\n",
       "  <tbody>\n",
       "    <tr>\n",
       "      <th>0</th>\n",
       "      <td>2017-12-29</td>\n",
       "      <td>51.76</td>\n",
       "      <td>51.94</td>\n",
       "      <td>51.45</td>\n",
       "      <td>51.76</td>\n",
       "      <td>0.49</td>\n",
       "      <td>34640.0</td>\n",
       "      <td>1792304.0</td>\n",
       "      <td>None</td>\n",
       "      <td>None</td>\n",
       "      <td>None</td>\n",
       "    </tr>\n",
       "    <tr>\n",
       "      <th>1</th>\n",
       "      <td>2017-12-28</td>\n",
       "      <td>51.65</td>\n",
       "      <td>51.82</td>\n",
       "      <td>51.43</td>\n",
       "      <td>51.60</td>\n",
       "      <td>0.39</td>\n",
       "      <td>40660.0</td>\n",
       "      <td>2099024.0</td>\n",
       "      <td>None</td>\n",
       "      <td>None</td>\n",
       "      <td>None</td>\n",
       "    </tr>\n",
       "    <tr>\n",
       "      <th>2</th>\n",
       "      <td>2017-12-27</td>\n",
       "      <td>51.45</td>\n",
       "      <td>51.89</td>\n",
       "      <td>50.76</td>\n",
       "      <td>51.82</td>\n",
       "      <td>1.13</td>\n",
       "      <td>57452.0</td>\n",
       "      <td>2957018.0</td>\n",
       "      <td>None</td>\n",
       "      <td>None</td>\n",
       "      <td>None</td>\n",
       "    </tr>\n",
       "    <tr>\n",
       "      <th>3</th>\n",
       "      <td>2017-12-22</td>\n",
       "      <td>51.05</td>\n",
       "      <td>51.50</td>\n",
       "      <td>50.92</td>\n",
       "      <td>51.32</td>\n",
       "      <td>0.58</td>\n",
       "      <td>71165.0</td>\n",
       "      <td>3641949.0</td>\n",
       "      <td>None</td>\n",
       "      <td>None</td>\n",
       "      <td>None</td>\n",
       "    </tr>\n",
       "    <tr>\n",
       "      <th>4</th>\n",
       "      <td>2017-12-21</td>\n",
       "      <td>51.16</td>\n",
       "      <td>51.52</td>\n",
       "      <td>50.90</td>\n",
       "      <td>51.40</td>\n",
       "      <td>0.62</td>\n",
       "      <td>120649.0</td>\n",
       "      <td>6179433.0</td>\n",
       "      <td>None</td>\n",
       "      <td>None</td>\n",
       "      <td>None</td>\n",
       "    </tr>\n",
       "  </tbody>\n",
       "</table>\n",
       "</div>"
      ],
      "text/plain": [
       "         Date   Open   High    Low  Close  Change  Traded Volume   Turnover  \\\n",
       "0  2017-12-29  51.76  51.94  51.45  51.76    0.49        34640.0  1792304.0   \n",
       "1  2017-12-28  51.65  51.82  51.43  51.60    0.39        40660.0  2099024.0   \n",
       "2  2017-12-27  51.45  51.89  50.76  51.82    1.13        57452.0  2957018.0   \n",
       "3  2017-12-22  51.05  51.50  50.92  51.32    0.58        71165.0  3641949.0   \n",
       "4  2017-12-21  51.16  51.52  50.90  51.40    0.62       120649.0  6179433.0   \n",
       "\n",
       "  Last Price of the Day Daily Traded Units Daily Turnover  \n",
       "0                  None               None           None  \n",
       "1                  None               None           None  \n",
       "2                  None               None           None  \n",
       "3                  None               None           None  \n",
       "4                  None               None           None  "
      ]
     },
     "execution_count": 17,
     "metadata": {},
     "output_type": "execute_result"
    }
   ],
   "source": [
    "# replace 'Change' values with change in price where the value is the difference in high and low price\n",
    "df['Change'] = df['High'] - df['Low']\n",
    "df.head()"
   ]
  },
  {
   "cell_type": "code",
   "execution_count": 18,
   "id": "581c0cd5-10ba-4df8-a387-97b5c00d02c4",
   "metadata": {},
   "outputs": [
    {
     "data": {
      "text/plain": [
       "Date                       0\n",
       "Open                       0\n",
       "High                       0\n",
       "Low                        0\n",
       "Close                      0\n",
       "Change                     0\n",
       "Traded Volume              0\n",
       "Turnover                   0\n",
       "Last Price of the Day    255\n",
       "Daily Traded Units       255\n",
       "Daily Turnover           255\n",
       "dtype: int64"
      ]
     },
     "execution_count": 18,
     "metadata": {},
     "output_type": "execute_result"
    }
   ],
   "source": [
    "df.isnull().sum()"
   ]
  },
  {
   "cell_type": "code",
   "execution_count": 19,
   "id": "12458a30-80b8-4ddb-93ea-dbd1116a7e34",
   "metadata": {},
   "outputs": [
    {
     "name": "stdout",
     "output_type": "stream",
     "text": [
      "<class 'pandas.core.frame.DataFrame'>\n",
      "RangeIndex: 255 entries, 0 to 254\n",
      "Data columns (total 8 columns):\n",
      " #   Column         Non-Null Count  Dtype  \n",
      "---  ------         --------------  -----  \n",
      " 0   Date           255 non-null    object \n",
      " 1   Open           255 non-null    float64\n",
      " 2   High           255 non-null    float64\n",
      " 3   Low            255 non-null    float64\n",
      " 4   Close          255 non-null    float64\n",
      " 5   Change         255 non-null    float64\n",
      " 6   Traded Volume  255 non-null    float64\n",
      " 7   Turnover       255 non-null    float64\n",
      "dtypes: float64(7), object(1)\n",
      "memory usage: 16.1+ KB\n"
     ]
    }
   ],
   "source": [
    "# drop columns with missing values\n",
    "df = df.drop(columns=['Last Price of the Day', 'Daily Traded Units', 'Daily Turnover'])\n",
    "df.info()"
   ]
  },
  {
   "cell_type": "code",
   "execution_count": 20,
   "id": "46fbd0a1-0533-4e70-b3fa-d6a54aa4274e",
   "metadata": {},
   "outputs": [
    {
     "data": {
      "text/plain": [
       "min    34.00\n",
       "max    53.11\n",
       "Name: Open, dtype: float64"
      ]
     },
     "execution_count": 20,
     "metadata": {},
     "output_type": "execute_result"
    }
   ],
   "source": [
    "# calculate the highest and lowest opening prices for AFX_X in 2017\n",
    "min_max = df['Open'].agg(['min', 'max'])\n",
    "min_max"
   ]
  },
  {
   "cell_type": "code",
   "execution_count": 21,
   "id": "34989b6b-d1fb-4c0f-81d3-b9fda267bc51",
   "metadata": {},
   "outputs": [
    {
     "data": {
      "text/html": [
       "<div>\n",
       "<style scoped>\n",
       "    .dataframe tbody tr th:only-of-type {\n",
       "        vertical-align: middle;\n",
       "    }\n",
       "\n",
       "    .dataframe tbody tr th {\n",
       "        vertical-align: top;\n",
       "    }\n",
       "\n",
       "    .dataframe thead th {\n",
       "        text-align: right;\n",
       "    }\n",
       "</style>\n",
       "<table border=\"1\" class=\"dataframe\">\n",
       "  <thead>\n",
       "    <tr style=\"text-align: right;\">\n",
       "      <th></th>\n",
       "      <th>Date</th>\n",
       "      <th>Open</th>\n",
       "      <th>High</th>\n",
       "      <th>Low</th>\n",
       "      <th>Close</th>\n",
       "      <th>Change</th>\n",
       "      <th>Traded Volume</th>\n",
       "      <th>Turnover</th>\n",
       "    </tr>\n",
       "  </thead>\n",
       "  <tbody>\n",
       "    <tr>\n",
       "      <th>161</th>\n",
       "      <td>2017-05-11</td>\n",
       "      <td>43.4</td>\n",
       "      <td>46.06</td>\n",
       "      <td>43.25</td>\n",
       "      <td>45.0</td>\n",
       "      <td>2.81</td>\n",
       "      <td>189125.0</td>\n",
       "      <td>8496322.0</td>\n",
       "    </tr>\n",
       "  </tbody>\n",
       "</table>\n",
       "</div>"
      ],
      "text/plain": [
       "           Date  Open   High    Low  Close  Change  Traded Volume   Turnover\n",
       "161  2017-05-11  43.4  46.06  43.25   45.0    2.81       189125.0  8496322.0"
      ]
     },
     "execution_count": 21,
     "metadata": {},
     "output_type": "execute_result"
    }
   ],
   "source": [
    "# Find which day had the biggest change in price in one day\n",
    "df.sort_values('Change', ascending=False).head(1)"
   ]
  },
  {
   "cell_type": "code",
   "execution_count": 22,
   "id": "ea699f0b-c260-41e1-9fd3-99205666cd0c",
   "metadata": {},
   "outputs": [
    {
     "data": {
      "text/html": [
       "<div>\n",
       "<style scoped>\n",
       "    .dataframe tbody tr th:only-of-type {\n",
       "        vertical-align: middle;\n",
       "    }\n",
       "\n",
       "    .dataframe tbody tr th {\n",
       "        vertical-align: top;\n",
       "    }\n",
       "\n",
       "    .dataframe thead th {\n",
       "        text-align: right;\n",
       "    }\n",
       "</style>\n",
       "<table border=\"1\" class=\"dataframe\">\n",
       "  <thead>\n",
       "    <tr style=\"text-align: right;\">\n",
       "      <th></th>\n",
       "      <th>Date</th>\n",
       "      <th>Open</th>\n",
       "      <th>High</th>\n",
       "      <th>Low</th>\n",
       "      <th>Close</th>\n",
       "      <th>Change</th>\n",
       "      <th>Traded Volume</th>\n",
       "      <th>Turnover</th>\n",
       "    </tr>\n",
       "  </thead>\n",
       "  <tbody>\n",
       "    <tr>\n",
       "      <th>0</th>\n",
       "      <td>2017-12-29</td>\n",
       "      <td>51.76</td>\n",
       "      <td>51.94</td>\n",
       "      <td>51.45</td>\n",
       "      <td>51.76</td>\n",
       "      <td>0.49</td>\n",
       "      <td>34640.0</td>\n",
       "      <td>1792304.0</td>\n",
       "    </tr>\n",
       "    <tr>\n",
       "      <th>1</th>\n",
       "      <td>2017-12-28</td>\n",
       "      <td>51.65</td>\n",
       "      <td>51.82</td>\n",
       "      <td>51.43</td>\n",
       "      <td>51.60</td>\n",
       "      <td>0.39</td>\n",
       "      <td>40660.0</td>\n",
       "      <td>2099024.0</td>\n",
       "    </tr>\n",
       "    <tr>\n",
       "      <th>2</th>\n",
       "      <td>2017-12-27</td>\n",
       "      <td>51.45</td>\n",
       "      <td>51.89</td>\n",
       "      <td>50.76</td>\n",
       "      <td>51.82</td>\n",
       "      <td>1.13</td>\n",
       "      <td>57452.0</td>\n",
       "      <td>2957018.0</td>\n",
       "    </tr>\n",
       "    <tr>\n",
       "      <th>3</th>\n",
       "      <td>2017-12-22</td>\n",
       "      <td>51.05</td>\n",
       "      <td>51.50</td>\n",
       "      <td>50.92</td>\n",
       "      <td>51.32</td>\n",
       "      <td>0.58</td>\n",
       "      <td>71165.0</td>\n",
       "      <td>3641949.0</td>\n",
       "    </tr>\n",
       "    <tr>\n",
       "      <th>4</th>\n",
       "      <td>2017-12-21</td>\n",
       "      <td>51.16</td>\n",
       "      <td>51.52</td>\n",
       "      <td>50.90</td>\n",
       "      <td>51.40</td>\n",
       "      <td>0.62</td>\n",
       "      <td>120649.0</td>\n",
       "      <td>6179433.0</td>\n",
       "    </tr>\n",
       "  </tbody>\n",
       "</table>\n",
       "</div>"
      ],
      "text/plain": [
       "         Date   Open   High    Low  Close  Change  Traded Volume   Turnover\n",
       "0  2017-12-29  51.76  51.94  51.45  51.76    0.49        34640.0  1792304.0\n",
       "1  2017-12-28  51.65  51.82  51.43  51.60    0.39        40660.0  2099024.0\n",
       "2  2017-12-27  51.45  51.89  50.76  51.82    1.13        57452.0  2957018.0\n",
       "3  2017-12-22  51.05  51.50  50.92  51.32    0.58        71165.0  3641949.0\n",
       "4  2017-12-21  51.16  51.52  50.90  51.40    0.62       120649.0  6179433.0"
      ]
     },
     "execution_count": 22,
     "metadata": {},
     "output_type": "execute_result"
    }
   ],
   "source": [
    "df.head()"
   ]
  },
  {
   "cell_type": "code",
   "execution_count": 23,
   "id": "f306d76e-16d8-455b-abfa-187000777847",
   "metadata": {},
   "outputs": [
    {
     "data": {
      "text/html": [
       "<div>\n",
       "<style scoped>\n",
       "    .dataframe tbody tr th:only-of-type {\n",
       "        vertical-align: middle;\n",
       "    }\n",
       "\n",
       "    .dataframe tbody tr th {\n",
       "        vertical-align: top;\n",
       "    }\n",
       "\n",
       "    .dataframe thead th {\n",
       "        text-align: right;\n",
       "    }\n",
       "</style>\n",
       "<table border=\"1\" class=\"dataframe\">\n",
       "  <thead>\n",
       "    <tr style=\"text-align: right;\">\n",
       "      <th></th>\n",
       "      <th>Date</th>\n",
       "      <th>Open</th>\n",
       "      <th>High</th>\n",
       "      <th>Low</th>\n",
       "      <th>Close</th>\n",
       "      <th>Change</th>\n",
       "      <th>Traded Volume</th>\n",
       "      <th>Turnover</th>\n",
       "    </tr>\n",
       "  </thead>\n",
       "  <tbody>\n",
       "    <tr>\n",
       "      <th>254</th>\n",
       "      <td>2017-01-02</td>\n",
       "      <td>34.99</td>\n",
       "      <td>35.94</td>\n",
       "      <td>34.99</td>\n",
       "      <td>35.80</td>\n",
       "      <td>0.95</td>\n",
       "      <td>44700.0</td>\n",
       "      <td>1590561.0</td>\n",
       "    </tr>\n",
       "    <tr>\n",
       "      <th>253</th>\n",
       "      <td>2017-01-03</td>\n",
       "      <td>35.90</td>\n",
       "      <td>35.93</td>\n",
       "      <td>35.34</td>\n",
       "      <td>35.48</td>\n",
       "      <td>0.59</td>\n",
       "      <td>70618.0</td>\n",
       "      <td>2515473.0</td>\n",
       "    </tr>\n",
       "    <tr>\n",
       "      <th>252</th>\n",
       "      <td>2017-01-04</td>\n",
       "      <td>35.48</td>\n",
       "      <td>35.51</td>\n",
       "      <td>34.75</td>\n",
       "      <td>35.19</td>\n",
       "      <td>0.76</td>\n",
       "      <td>54408.0</td>\n",
       "      <td>1906810.0</td>\n",
       "    </tr>\n",
       "    <tr>\n",
       "      <th>251</th>\n",
       "      <td>2017-01-05</td>\n",
       "      <td>35.02</td>\n",
       "      <td>35.20</td>\n",
       "      <td>34.73</td>\n",
       "      <td>35.06</td>\n",
       "      <td>0.47</td>\n",
       "      <td>48412.0</td>\n",
       "      <td>1692326.0</td>\n",
       "    </tr>\n",
       "    <tr>\n",
       "      <th>250</th>\n",
       "      <td>2017-01-06</td>\n",
       "      <td>34.91</td>\n",
       "      <td>35.21</td>\n",
       "      <td>34.91</td>\n",
       "      <td>35.04</td>\n",
       "      <td>0.30</td>\n",
       "      <td>27507.0</td>\n",
       "      <td>964046.0</td>\n",
       "    </tr>\n",
       "    <tr>\n",
       "      <th>...</th>\n",
       "      <td>...</td>\n",
       "      <td>...</td>\n",
       "      <td>...</td>\n",
       "      <td>...</td>\n",
       "      <td>...</td>\n",
       "      <td>...</td>\n",
       "      <td>...</td>\n",
       "      <td>...</td>\n",
       "    </tr>\n",
       "    <tr>\n",
       "      <th>4</th>\n",
       "      <td>2017-12-21</td>\n",
       "      <td>51.16</td>\n",
       "      <td>51.52</td>\n",
       "      <td>50.90</td>\n",
       "      <td>51.40</td>\n",
       "      <td>0.62</td>\n",
       "      <td>120649.0</td>\n",
       "      <td>6179433.0</td>\n",
       "    </tr>\n",
       "    <tr>\n",
       "      <th>3</th>\n",
       "      <td>2017-12-22</td>\n",
       "      <td>51.05</td>\n",
       "      <td>51.50</td>\n",
       "      <td>50.92</td>\n",
       "      <td>51.32</td>\n",
       "      <td>0.58</td>\n",
       "      <td>71165.0</td>\n",
       "      <td>3641949.0</td>\n",
       "    </tr>\n",
       "    <tr>\n",
       "      <th>2</th>\n",
       "      <td>2017-12-27</td>\n",
       "      <td>51.45</td>\n",
       "      <td>51.89</td>\n",
       "      <td>50.76</td>\n",
       "      <td>51.82</td>\n",
       "      <td>1.13</td>\n",
       "      <td>57452.0</td>\n",
       "      <td>2957018.0</td>\n",
       "    </tr>\n",
       "    <tr>\n",
       "      <th>1</th>\n",
       "      <td>2017-12-28</td>\n",
       "      <td>51.65</td>\n",
       "      <td>51.82</td>\n",
       "      <td>51.43</td>\n",
       "      <td>51.60</td>\n",
       "      <td>0.39</td>\n",
       "      <td>40660.0</td>\n",
       "      <td>2099024.0</td>\n",
       "    </tr>\n",
       "    <tr>\n",
       "      <th>0</th>\n",
       "      <td>2017-12-29</td>\n",
       "      <td>51.76</td>\n",
       "      <td>51.94</td>\n",
       "      <td>51.45</td>\n",
       "      <td>51.76</td>\n",
       "      <td>0.49</td>\n",
       "      <td>34640.0</td>\n",
       "      <td>1792304.0</td>\n",
       "    </tr>\n",
       "  </tbody>\n",
       "</table>\n",
       "<p>255 rows × 8 columns</p>\n",
       "</div>"
      ],
      "text/plain": [
       "           Date   Open   High    Low  Close  Change  Traded Volume   Turnover\n",
       "254  2017-01-02  34.99  35.94  34.99  35.80    0.95        44700.0  1590561.0\n",
       "253  2017-01-03  35.90  35.93  35.34  35.48    0.59        70618.0  2515473.0\n",
       "252  2017-01-04  35.48  35.51  34.75  35.19    0.76        54408.0  1906810.0\n",
       "251  2017-01-05  35.02  35.20  34.73  35.06    0.47        48412.0  1692326.0\n",
       "250  2017-01-06  34.91  35.21  34.91  35.04    0.30        27507.0   964046.0\n",
       "..          ...    ...    ...    ...    ...     ...            ...        ...\n",
       "4    2017-12-21  51.16  51.52  50.90  51.40    0.62       120649.0  6179433.0\n",
       "3    2017-12-22  51.05  51.50  50.92  51.32    0.58        71165.0  3641949.0\n",
       "2    2017-12-27  51.45  51.89  50.76  51.82    1.13        57452.0  2957018.0\n",
       "1    2017-12-28  51.65  51.82  51.43  51.60    0.39        40660.0  2099024.0\n",
       "0    2017-12-29  51.76  51.94  51.45  51.76    0.49        34640.0  1792304.0\n",
       "\n",
       "[255 rows x 8 columns]"
      ]
     },
     "execution_count": 23,
     "metadata": {},
     "output_type": "execute_result"
    }
   ],
   "source": [
    "# sort by date in ascending order\n",
    "df_sorted = df.sort_values('Date', ascending=True)\n",
    "df_sorted"
   ]
  },
  {
   "cell_type": "code",
   "execution_count": 24,
   "id": "d7972715-fbfc-49af-b691-751c161c6352",
   "metadata": {},
   "outputs": [],
   "source": [
    "# create a new column to calculate the change in Closing Price\n",
    "df_sorted['Change in Close'] = df_sorted['Close']-df_sorted['Close'].shift(1)"
   ]
  },
  {
   "cell_type": "code",
   "execution_count": 25,
   "id": "32023954-ed32-46ae-91a1-c35140b7e55a",
   "metadata": {},
   "outputs": [
    {
     "data": {
      "text/html": [
       "<div>\n",
       "<style scoped>\n",
       "    .dataframe tbody tr th:only-of-type {\n",
       "        vertical-align: middle;\n",
       "    }\n",
       "\n",
       "    .dataframe tbody tr th {\n",
       "        vertical-align: top;\n",
       "    }\n",
       "\n",
       "    .dataframe thead th {\n",
       "        text-align: right;\n",
       "    }\n",
       "</style>\n",
       "<table border=\"1\" class=\"dataframe\">\n",
       "  <thead>\n",
       "    <tr style=\"text-align: right;\">\n",
       "      <th></th>\n",
       "      <th>Date</th>\n",
       "      <th>Open</th>\n",
       "      <th>High</th>\n",
       "      <th>Low</th>\n",
       "      <th>Close</th>\n",
       "      <th>Change</th>\n",
       "      <th>Traded Volume</th>\n",
       "      <th>Turnover</th>\n",
       "      <th>Change in Close</th>\n",
       "      <th>Change in Close Percent</th>\n",
       "    </tr>\n",
       "  </thead>\n",
       "  <tbody>\n",
       "    <tr>\n",
       "      <th>254</th>\n",
       "      <td>2017-01-02</td>\n",
       "      <td>34.99</td>\n",
       "      <td>35.94</td>\n",
       "      <td>34.99</td>\n",
       "      <td>35.80</td>\n",
       "      <td>0.95</td>\n",
       "      <td>44700.0</td>\n",
       "      <td>1590561.0</td>\n",
       "      <td>NaN</td>\n",
       "      <td>NaN</td>\n",
       "    </tr>\n",
       "    <tr>\n",
       "      <th>253</th>\n",
       "      <td>2017-01-03</td>\n",
       "      <td>35.90</td>\n",
       "      <td>35.93</td>\n",
       "      <td>35.34</td>\n",
       "      <td>35.48</td>\n",
       "      <td>0.59</td>\n",
       "      <td>70618.0</td>\n",
       "      <td>2515473.0</td>\n",
       "      <td>-0.32</td>\n",
       "      <td>-0.893855</td>\n",
       "    </tr>\n",
       "    <tr>\n",
       "      <th>252</th>\n",
       "      <td>2017-01-04</td>\n",
       "      <td>35.48</td>\n",
       "      <td>35.51</td>\n",
       "      <td>34.75</td>\n",
       "      <td>35.19</td>\n",
       "      <td>0.76</td>\n",
       "      <td>54408.0</td>\n",
       "      <td>1906810.0</td>\n",
       "      <td>-0.29</td>\n",
       "      <td>-0.817362</td>\n",
       "    </tr>\n",
       "    <tr>\n",
       "      <th>251</th>\n",
       "      <td>2017-01-05</td>\n",
       "      <td>35.02</td>\n",
       "      <td>35.20</td>\n",
       "      <td>34.73</td>\n",
       "      <td>35.06</td>\n",
       "      <td>0.47</td>\n",
       "      <td>48412.0</td>\n",
       "      <td>1692326.0</td>\n",
       "      <td>-0.13</td>\n",
       "      <td>-0.369423</td>\n",
       "    </tr>\n",
       "    <tr>\n",
       "      <th>250</th>\n",
       "      <td>2017-01-06</td>\n",
       "      <td>34.91</td>\n",
       "      <td>35.21</td>\n",
       "      <td>34.91</td>\n",
       "      <td>35.04</td>\n",
       "      <td>0.30</td>\n",
       "      <td>27507.0</td>\n",
       "      <td>964046.0</td>\n",
       "      <td>-0.02</td>\n",
       "      <td>-0.057045</td>\n",
       "    </tr>\n",
       "  </tbody>\n",
       "</table>\n",
       "</div>"
      ],
      "text/plain": [
       "           Date   Open   High    Low  Close  Change  Traded Volume   Turnover  \\\n",
       "254  2017-01-02  34.99  35.94  34.99  35.80    0.95        44700.0  1590561.0   \n",
       "253  2017-01-03  35.90  35.93  35.34  35.48    0.59        70618.0  2515473.0   \n",
       "252  2017-01-04  35.48  35.51  34.75  35.19    0.76        54408.0  1906810.0   \n",
       "251  2017-01-05  35.02  35.20  34.73  35.06    0.47        48412.0  1692326.0   \n",
       "250  2017-01-06  34.91  35.21  34.91  35.04    0.30        27507.0   964046.0   \n",
       "\n",
       "     Change in Close  Change in Close Percent  \n",
       "254              NaN                      NaN  \n",
       "253            -0.32                -0.893855  \n",
       "252            -0.29                -0.817362  \n",
       "251            -0.13                -0.369423  \n",
       "250            -0.02                -0.057045  "
      ]
     },
     "execution_count": 25,
     "metadata": {},
     "output_type": "execute_result"
    }
   ],
   "source": [
    "# calculter percent change in closing price\n",
    "df_sorted['Change in Close Percent'] = df_sorted['Close'].pct_change() * 100\n",
    "df_sorted.head()"
   ]
  },
  {
   "cell_type": "code",
   "execution_count": 26,
   "id": "5914b1ff-884b-4120-8576-cf91ebd445d7",
   "metadata": {},
   "outputs": [],
   "source": [
    "# calculate absolute value of change in close to find the biggest change\n",
    "df_sorted['absolute Change in Close '] = df_sorted['Change in Close Percent'].abs()"
   ]
  },
  {
   "cell_type": "code",
   "execution_count": 27,
   "id": "c59cc498-4f64-4317-90fd-b0e7eb80b3c2",
   "metadata": {},
   "outputs": [
    {
     "data": {
      "text/html": [
       "<div>\n",
       "<style scoped>\n",
       "    .dataframe tbody tr th:only-of-type {\n",
       "        vertical-align: middle;\n",
       "    }\n",
       "\n",
       "    .dataframe tbody tr th {\n",
       "        vertical-align: top;\n",
       "    }\n",
       "\n",
       "    .dataframe thead th {\n",
       "        text-align: right;\n",
       "    }\n",
       "</style>\n",
       "<table border=\"1\" class=\"dataframe\">\n",
       "  <thead>\n",
       "    <tr style=\"text-align: right;\">\n",
       "      <th></th>\n",
       "      <th>Date</th>\n",
       "      <th>Open</th>\n",
       "      <th>High</th>\n",
       "      <th>Low</th>\n",
       "      <th>Close</th>\n",
       "      <th>Change</th>\n",
       "      <th>Traded Volume</th>\n",
       "      <th>Turnover</th>\n",
       "      <th>Change in Close</th>\n",
       "      <th>Change in Close Percent</th>\n",
       "      <th>absolute Change in Close</th>\n",
       "    </tr>\n",
       "  </thead>\n",
       "  <tbody>\n",
       "    <tr>\n",
       "      <th>98</th>\n",
       "      <td>2017-08-09</td>\n",
       "      <td>43.5</td>\n",
       "      <td>43.5</td>\n",
       "      <td>41.64</td>\n",
       "      <td>41.81</td>\n",
       "      <td>1.86</td>\n",
       "      <td>355857.0</td>\n",
       "      <td>15003956.0</td>\n",
       "      <td>-2.56</td>\n",
       "      <td>-5.769664</td>\n",
       "      <td>5.769664</td>\n",
       "    </tr>\n",
       "  </tbody>\n",
       "</table>\n",
       "</div>"
      ],
      "text/plain": [
       "          Date  Open  High    Low  Close  Change  Traded Volume    Turnover  \\\n",
       "98  2017-08-09  43.5  43.5  41.64  41.81    1.86       355857.0  15003956.0   \n",
       "\n",
       "    Change in Close  Change in Close Percent  absolute Change in Close   \n",
       "98            -2.56                -5.769664                   5.769664  "
      ]
     },
     "execution_count": 27,
     "metadata": {},
     "output_type": "execute_result"
    }
   ],
   "source": [
    "# largest change between days calculation\n",
    "largest_change_between_days = df_sorted.sort_values('absolute Change in Close ', ascending=False).head(1)\n",
    "largest_change_between_days"
   ]
  },
  {
   "cell_type": "code",
   "execution_count": 28,
   "id": "29d1f39f-2865-4423-8f96-4440e8f9c118",
   "metadata": {},
   "outputs": [
    {
     "data": {
      "text/plain": [
       "89124.33725490196"
      ]
     },
     "execution_count": 28,
     "metadata": {},
     "output_type": "execute_result"
    }
   ],
   "source": [
    "# calculate average trading volume\n",
    "avg_trading_volume = df['Traded Volume'].mean()\n",
    "avg_trading_volume"
   ]
  },
  {
   "cell_type": "code",
   "execution_count": 29,
   "id": "f3c6cea3-c558-4146-a3db-5623995bdc0a",
   "metadata": {},
   "outputs": [
    {
     "data": {
      "text/plain": [
       "76286.0"
      ]
     },
     "execution_count": 29,
     "metadata": {},
     "output_type": "execute_result"
    }
   ],
   "source": [
    "# calculate median trading volume\n",
    "median_trading_volume = df['Traded Volume'].median()\n",
    "median_trading_volume"
   ]
  },
  {
   "cell_type": "markdown",
   "id": "f54e7371-fed4-4cff-b0dd-480298db67c9",
   "metadata": {},
   "source": [
    "**Answers**\n",
    "1. The highest opening price was 53.11 and the lowest opening price was 34.00 for AFX_X during this period.\n",
    "2. The largest change in any one day (based on High and Low price) was on 2017-05-11 with a change of 2.81. \n",
    "3. The largest change between any two days (based on Closing Price) was on 2017-08-09 with a change of -5.769 from the previous Closing Price.\n",
    "4. The average daily trading volume during this year was 89,124.\n",
    "5. The median trading volume during this year was 76,286."
   ]
  },
  {
   "cell_type": "markdown",
   "id": "fb4276b4-533b-4c95-887a-e3629d25b420",
   "metadata": {},
   "source": [
    "I was not sure how to do these calculations without using pandas to convert the dictionary into a dataframe. I prompted ChatGPT to explore options of how this could be done. It suggested trying to extract the data into lists and then performing calculations with for loops. I am going to give this a try below."
   ]
  },
  {
   "cell_type": "code",
   "execution_count": 30,
   "id": "475687c0-efda-42dd-b0ee-8f8ed50ce925",
   "metadata": {},
   "outputs": [],
   "source": [
    "#separate the data and columns from the json data\n",
    "data = json_data['dataset']['data']\n",
    "columns = json_data['dataset']['column_names']"
   ]
  },
  {
   "cell_type": "code",
   "execution_count": 31,
   "id": "d9e9aadc-8d40-4a0f-8c13-f860079c5a65",
   "metadata": {},
   "outputs": [
    {
     "data": {
      "text/plain": [
       "['2017-12-29',\n",
       " 51.76,\n",
       " 51.94,\n",
       " 51.45,\n",
       " 51.76,\n",
       " None,\n",
       " 34640.0,\n",
       " 1792304.0,\n",
       " None,\n",
       " None,\n",
       " None]"
      ]
     },
     "execution_count": 31,
     "metadata": {},
     "output_type": "execute_result"
    }
   ],
   "source": [
    "data[0]"
   ]
  },
  {
   "cell_type": "code",
   "execution_count": 32,
   "id": "20aa7322-27be-4a52-9114-eccc33771601",
   "metadata": {},
   "outputs": [
    {
     "data": {
      "text/plain": [
       "['Date',\n",
       " 'Open',\n",
       " 'High',\n",
       " 'Low',\n",
       " 'Close',\n",
       " 'Change',\n",
       " 'Traded Volume',\n",
       " 'Turnover',\n",
       " 'Last Price of the Day',\n",
       " 'Daily Traded Units',\n",
       " 'Daily Turnover']"
      ]
     },
     "execution_count": 32,
     "metadata": {},
     "output_type": "execute_result"
    }
   ],
   "source": [
    "columns"
   ]
  },
  {
   "cell_type": "code",
   "execution_count": 33,
   "id": "de247c7b-ab14-4115-803b-9118f4544cb4",
   "metadata": {},
   "outputs": [],
   "source": [
    "# initiate empty lists for the values of interest\n",
    "opens = []\n",
    "highs = []\n",
    "lows = []\n",
    "closes = []\n",
    "volumes = []\n",
    "\n",
    "# extract data into lists\n",
    "for row in data:\n",
    "    opens.append(row[columns.index('Open')] if row[columns.index('Open')] is not None else float('nan'))\n",
    "    highs.append(row[columns.index('High')] if row[columns.index('High')] is not None else float('nan'))\n",
    "    lows.append(row[columns.index('Low')] if row[columns.index('Low')] is not None else float('nan'))\n",
    "    closes.append(row[columns.index('Close')] if row[columns.index('Close')] is not None else float('nan'))\n",
    "    volumes.append(row[columns.index('Traded Volume')] if row[columns.index('Traded Volume')] is not None else float('nan'))"
   ]
  },
  {
   "cell_type": "code",
   "execution_count": 34,
   "id": "047714aa-1116-40bf-bba2-8fe45d83599b",
   "metadata": {},
   "outputs": [
    {
     "name": "stdout",
     "output_type": "stream",
     "text": [
      "255 255 255 255 255\n"
     ]
    }
   ],
   "source": [
    "print(len(opens), len(highs), len(lows), len(closes), len(volumes))"
   ]
  },
  {
   "cell_type": "code",
   "execution_count": 35,
   "id": "8b7696b1-e268-4c31-9e2f-735ce61e80a9",
   "metadata": {},
   "outputs": [
    {
     "name": "stdout",
     "output_type": "stream",
     "text": [
      "Highest opening price: 53.11 and lowest opening price: 34.0.\n"
     ]
    }
   ],
   "source": [
    "# highest and lowest opening price\n",
    "highest_opening = max(opens)\n",
    "lowest_opening = min(opens)\n",
    "print(f'Highest opening price: {highest_opening} and lowest opening price: {lowest_opening}.')"
   ]
  },
  {
   "cell_type": "code",
   "execution_count": 36,
   "id": "c07f8dca-f999-456a-99b4-45dd896b5f6e",
   "metadata": {},
   "outputs": [
    {
     "data": {
      "text/plain": [
       "2.8100000000000023"
      ]
     },
     "execution_count": 36,
     "metadata": {},
     "output_type": "execute_result"
    }
   ],
   "source": [
    "# largest change in one day\n",
    "largest_daily_change = max([high - low for high, low in zip(highs, lows)])\n",
    "largest_daily_change"
   ]
  },
  {
   "cell_type": "code",
   "execution_count": 37,
   "id": "af277758-f888-4910-ad3f-16552211a9df",
   "metadata": {},
   "outputs": [
    {
     "data": {
      "text/plain": [
       "2.559999999999995"
      ]
     },
     "execution_count": 37,
     "metadata": {},
     "output_type": "execute_result"
    }
   ],
   "source": [
    "# largest change between any two days\n",
    "largest_closing_change = max([abs(closes[i] - closes[i - 1]) for i in range(1, len(closes))])\n",
    "largest_closing_change"
   ]
  },
  {
   "cell_type": "code",
   "execution_count": 38,
   "id": "04b9fe72-c910-4db5-8d62-f4d1a42f070d",
   "metadata": {},
   "outputs": [
    {
     "data": {
      "text/plain": [
       "89124.33725490196"
      ]
     },
     "execution_count": 38,
     "metadata": {},
     "output_type": "execute_result"
    }
   ],
   "source": [
    "# average trading volume\n",
    "average_volume = sum(volumes) / len(volumes)\n",
    "average_volume"
   ]
  },
  {
   "cell_type": "code",
   "execution_count": 39,
   "id": "5c0aaedc-e123-4a54-82e7-faf852f3043f",
   "metadata": {},
   "outputs": [
    {
     "data": {
      "text/plain": [
       "76286.0"
      ]
     },
     "execution_count": 39,
     "metadata": {},
     "output_type": "execute_result"
    }
   ],
   "source": [
    "def median(lst):\n",
    "    sorted_lst = sorted(lst)\n",
    "    lst_len = len(sorted_lst)\n",
    "    index = (lst_len - 1) // 2\n",
    "\n",
    "    if (lst_len % 2):\n",
    "        return sorted_lst[index]\n",
    "    else:\n",
    "        return (sorted_lst[index] + sorted_lst[index + 1]) / 2.0\n",
    "\n",
    "median(volumes)"
   ]
  },
  {
   "cell_type": "markdown",
   "id": "b65aa183-b12f-4b30-bba0-ee88e72953d5",
   "metadata": {},
   "source": [
    "I got all of the same answers as I did using pandas!"
   ]
  },
  {
   "cell_type": "code",
   "execution_count": null,
   "id": "24847559-975a-4d52-85a6-66b391959b8b",
   "metadata": {},
   "outputs": [],
   "source": []
  }
 ],
 "metadata": {
  "kernelspec": {
   "display_name": "Python 3 (ipykernel)",
   "language": "python",
   "name": "python3"
  },
  "language_info": {
   "codemirror_mode": {
    "name": "ipython",
    "version": 3
   },
   "file_extension": ".py",
   "mimetype": "text/x-python",
   "name": "python",
   "nbconvert_exporter": "python",
   "pygments_lexer": "ipython3",
   "version": "3.11.0"
  }
 },
 "nbformat": 4,
 "nbformat_minor": 5
}
